{
 "cells": [
  {
   "cell_type": "code",
   "execution_count": 7,
   "metadata": {},
   "outputs": [
    {
     "name": "stderr",
     "output_type": "stream",
     "text": [
      "/root/anaconda3/lib/python3.8/site-packages/scipy/sparse/linalg/_eigen/arpack/arpack.py:1272: RuntimeWarning: k >= N - 1 for N * N square matrix. Attempting to use scipy.linalg.eig instead.\n",
      "  warnings.warn(\"k >= N - 1 for N * N square matrix. \"\n"
     ]
    },
    {
     "data": {
      "text/plain": [
       "array([0.5, 1.5])"
      ]
     },
     "execution_count": 7,
     "metadata": {},
     "output_type": "execute_result"
    }
   ],
   "source": [
    "### 测试stationary函数\n",
    "import os\n",
    "from util import stationary\n",
    "import numpy as np\n",
    "# 创建一个简单的过渡矩阵\n",
    "A = np.array([[0.4, 0.6],\n",
    "              [0.2, 0.8]])\n",
    "\n",
    "# 调用函数\n",
    "result = stationary(A)\n",
    "result"
   ]
  },
  {
   "cell_type": "code",
   "execution_count": 1,
   "metadata": {},
   "outputs": [
    {
     "name": "stdout",
     "output_type": "stream",
     "text": [
      "Data(x=[2000, 2], edge_index=[2, 53372], y=[2000])\n",
      "拼接后的矩阵shape： torch.Size([2000, 502])\n",
      "Data(x=[2000, 502], edge_index=[2, 53372])\n",
      "torch.Size([2, 2]) torch.Size([2]) torch.Size([2, 2])\n",
      "tensor([1.9461e+01, 8.3291e-04], grad_fn=<LinalgSvdBackward0>)\n",
      "Epoch 1, Loss: 1.2955381870269775\n",
      "拼接后的矩阵shape： torch.Size([2000, 502])\n",
      "Data(x=[2000, 502], edge_index=[2, 53372])\n",
      "torch.Size([2, 2]) torch.Size([2]) torch.Size([2, 2])\n",
      "tensor([2.8864e+01, 1.9608e-03], grad_fn=<LinalgSvdBackward0>)\n",
      "Epoch 2, Loss: 1.282875418663025\n"
     ]
    }
   ],
   "source": [
    "import os\n",
    "import numpy as np\n",
    "from sklearn.metrics import pairwise_distances\n",
    "import matplotlib.pyplot as plt\n",
    "import matplotlib.patheffects as PathEffects\n",
    "from scipy.sparse import csr_matrix\n",
    "import networkx as nx\n",
    "\n",
    "from scipy.linalg import orthogonal_procrustes\n",
    "\n",
    "import torch\n",
    "import torch.optim as optim\n",
    "from torch_geometric.data import Data\n",
    "\n",
    "from sklearn.manifold import TSNE\n",
    "from sklearn.datasets import make_moons  # 导入make_moons函数\n",
    "\n",
    "from util import Net, GIN, GAT, stationary, reconstruct, dG\n",
    "\n",
    "\n",
    "np.random.seed(0)\n",
    "torch.manual_seed(0)\n",
    "\n",
    "n = 2000\n",
    "m = 500\n",
    "DISTANCE = 0.1\n",
    "\n",
    "# 导入moon数据集\n",
    "x, y = make_moons(n_samples=n, noise=0.1, random_state=0) \n",
    "# 分割训练集和测试机\n",
    "n_train = int(n * 0.7)\n",
    "train_ind = torch.randperm(n)[:n_train]\n",
    "test_ind = torch.LongTensor(list(set(np.arange(n)) - set(train_ind.tolist())))\n",
    "# K = int(np.sqrt(n) * np.log2(n) / 10) #作为隐藏输入\n",
    "D = pairwise_distances(x)# 邻接距离矩阵\n",
    "# 二值化，得到邻接矩阵\n",
    "A_binary = np.where(D <= DISTANCE, 1, 0)\n",
    "# A_binary\n",
    "# 获得所有的边，二元组格式\n",
    "row_indices, col_indices = np.where(A_binary == 1)\n",
    "edges = list(zip(row_indices, col_indices))\n",
    "\n",
    "# 转为tensor\n",
    "x = torch.tensor(x, dtype=torch.float)\n",
    "y = torch.tensor(y, dtype=torch.long)\n",
    "edges = torch.tensor(edges, dtype=torch.long).t().contiguous()\n",
    "data = Data(x=x, y=y, edge_index=edges)\n",
    "print(data)\n",
    "\n",
    "# 喂到GIN网络中\n",
    "net = GIN(m)\n",
    "optimizer = optim.Adam(net.parameters(), lr=0.001)\n",
    "net.train()\n",
    "for epoch in range(2):\n",
    "    ind = torch.eye(n)[:, torch.randperm(n)[:m]]\n",
    "    # 将节点选择矩阵与特征矩阵连接在一起\n",
    "    X_extended = torch.hstack([x, ind]) # \n",
    "    print(\"拼接后的矩阵shape：\", X_extended.shape)\n",
    "    data = Data(x=X_extended, edge_index=edges)\n",
    "    print(data)\n",
    "    rec = net(data) # reconstruct\n",
    "    loss = dG(x[train_ind], rec[train_ind]) #train loss\n",
    "    print(f'Epoch {epoch + 1}, Loss: {float(loss)}')\n",
    "    optimizer.zero_grad() # zero gradient\n",
    "    loss.backward()\n",
    "    optimizer.step()\n",
    "\n",
    "# R, _ = orthogonal_procrustes(x.numpy(), rec.detach().numpy())\n",
    "# rec_GIN = rec.detach().numpy() @ R.T\n",
    "# loss_GIN = float(dG(x, rec))\n",
    "# # 创建图形\n",
    "# fig, ax = plt.subplots(1, 2, figsize=(14, 4))\n",
    "# # ax两个画布\n",
    "# ax[0].scatter(x[:, 0], x[:, 1], c=y, s=10, cmap='viridis', rasterized=True)\n",
    "# ax[0].set_xticks([])\n",
    "# ax[0].set_yticks([])\n",
    "# ax[0].set_facecolor('#eeeeee')\n",
    "# txt = ax[0].text(0.05, 0.05, 'Ground Truth', color='k', fontsize=14, weight='bold', transform=ax[0].transAxes)\n",
    "# txt.set_path_effects([PathEffects.withStroke(linewidth=5, foreground='#eeeeee')])\n",
    "\n",
    "# # 绘制 GIN 网络的重构结果\n",
    "# ax[1].scatter(rec_GIN[:, 0], rec_GIN[:, 1], c=y, s=10, cmap='viridis', rasterized=True)\n",
    "# ax[1].set_xticks([])\n",
    "# ax[1].set_yticks([])\n",
    "# txt = ax[1].text(0.05, 0.05, f'GIN $d_G = {loss_GIN:.2f}$', color='k', fontsize=14, weight='bold', transform=ax[1].transAxes)\n",
    "# txt.set_path_effects([PathEffects.withStroke(linewidth=5, foreground='w')])\n",
    "\n",
    "# fig.subplots_adjust()\n",
    "\n",
    "# if not os.path.exists('imgs'):\n",
    "#     os.mkdir('imgs')\n",
    "\n",
    "# fig.savefig('imgs/semi_moon_GIN.png', bbox_inches='tight', dpi=300)\n",
    "\n",
    "# plt.show()"
   ]
  },
  {
   "cell_type": "code",
   "execution_count": 15,
   "metadata": {},
   "outputs": [
    {
     "name": "stdout",
     "output_type": "stream",
     "text": [
      "tensor([2, 6, 9, 7, 1])\n"
     ]
    },
    {
     "data": {
      "text/plain": [
       "tensor([[0., 0., 0., 0., 0.],\n",
       "        [0., 0., 0., 0., 1.],\n",
       "        [1., 0., 0., 0., 0.],\n",
       "        [0., 0., 0., 0., 0.],\n",
       "        [0., 0., 0., 0., 0.],\n",
       "        [0., 0., 0., 0., 0.],\n",
       "        [0., 1., 0., 0., 0.],\n",
       "        [0., 0., 0., 1., 0.],\n",
       "        [0., 0., 0., 0., 0.],\n",
       "        [0., 0., 1., 0., 0.]])"
      ]
     },
     "execution_count": 15,
     "metadata": {},
     "output_type": "execute_result"
    }
   ],
   "source": [
    "import torch\n",
    "n=10\n",
    "m=5\n",
    "rc_list = torch.randperm(n)[:m]\n",
    "ind = torch.eye(n)[:, rc_list]\n",
    "print(rc_list)\n",
    "ind"
   ]
  },
  {
   "cell_type": "code",
   "execution_count": 9,
   "metadata": {},
   "outputs": [
    {
     "name": "stdout",
     "output_type": "stream",
     "text": [
      "torch-sparse 版本为: 4.3.2\n"
     ]
    }
   ],
   "source": [
    "import gensim\n",
    "\n",
    "def main():\n",
    "    sparse_version =gensim.__version__\n",
    "    print(\"torch-sparse 版本为:\", sparse_version)\n",
    "\n",
    "if __name__ == \"__main__\":\n",
    "    main()\n"
   ]
  }
 ],
 "metadata": {
  "kernelspec": {
   "display_name": "Python 3",
   "language": "python",
   "name": "python3"
  },
  "language_info": {
   "codemirror_mode": {
    "name": "ipython",
    "version": 3
   },
   "file_extension": ".py",
   "mimetype": "text/x-python",
   "name": "python",
   "nbconvert_exporter": "python",
   "pygments_lexer": "ipython3",
   "version": "3.8.8"
  }
 },
 "nbformat": 4,
 "nbformat_minor": 2
}
