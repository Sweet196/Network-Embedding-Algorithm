{
 "cells": [
  {
   "cell_type": "code",
   "execution_count": 7,
   "metadata": {},
   "outputs": [
    {
     "name": "stderr",
     "output_type": "stream",
     "text": [
      "/root/anaconda3/lib/python3.8/site-packages/scipy/sparse/linalg/_eigen/arpack/arpack.py:1272: RuntimeWarning: k >= N - 1 for N * N square matrix. Attempting to use scipy.linalg.eig instead.\n",
      "  warnings.warn(\"k >= N - 1 for N * N square matrix. \"\n"
     ]
    },
    {
     "data": {
      "text/plain": [
       "array([0.5, 1.5])"
      ]
     },
     "execution_count": 7,
     "metadata": {},
     "output_type": "execute_result"
    }
   ],
   "source": [
    "### 测试stationary函数\n",
    "import os\n",
    "from util import stationary\n",
    "import numpy as np\n",
    "# 创建一个简单的过渡矩阵\n",
    "A = np.array([[0.4, 0.6],\n",
    "              [0.2, 0.8]])\n",
    "\n",
    "# 调用函数\n",
    "result = stationary(A)\n",
    "result"
   ]
  },
  {
   "cell_type": "code",
   "execution_count": 1,
   "metadata": {},
   "outputs": [
    {
     "name": "stdout",
     "output_type": "stream",
     "text": [
      "Data(x=[2000, 2], edge_index=[2, 53372], y=[2000])\n",
      "拼接后的矩阵shape： torch.Size([2000, 502])\n",
      "Data(x=[2000, 502], edge_index=[2, 53372])\n",
      "torch.Size([2, 2]) torch.Size([2]) torch.Size([2, 2])\n",
      "tensor([1.9461e+01, 8.3291e-04], grad_fn=<LinalgSvdBackward0>)\n",
      "Epoch 1, Loss: 1.2955381870269775\n",
      "拼接后的矩阵shape： torch.Size([2000, 502])\n",
      "Data(x=[2000, 502], edge_index=[2, 53372])\n",
      "torch.Size([2, 2]) torch.Size([2]) torch.Size([2, 2])\n",
      "tensor([2.8864e+01, 1.9608e-03], grad_fn=<LinalgSvdBackward0>)\n",
      "Epoch 2, Loss: 1.282875418663025\n"
     ]
    }
   ],
   "source": [
    "import os\n",
    "import numpy as np\n",
    "from sklearn.metrics import pairwise_distances\n",
    "import matplotlib.pyplot as plt\n",
    "import matplotlib.patheffects as PathEffects\n",
    "from scipy.sparse import csr_matrix\n",
    "import networkx as nx\n",
    "\n",
    "from scipy.linalg import orthogonal_procrustes\n",
    "\n",
    "import torch\n",
    "import torch.optim as optim\n",
    "from torch_geometric.data import Data\n",
    "\n",
    "from sklearn.manifold import TSNE\n",
    "from sklearn.datasets import make_moons  # 导入make_moons函数\n",
    "\n",
    "from util import Net, GIN, GAT, stationary, reconstruct, dG\n",
    "\n",
    "\n",
    "np.random.seed(0)\n",
    "torch.manual_seed(0)\n",
    "\n",
    "n = 2000\n",
    "m = 500\n",
    "DISTANCE = 0.1\n",
    "\n",
    "# 导入moon数据集\n",
    "x, y = make_moons(n_samples=n, noise=0.1, random_state=0) \n",
    "# 分割训练集和测试机\n",
    "n_train = int(n * 0.7)\n",
    "train_ind = torch.randperm(n)[:n_train]\n",
    "test_ind = torch.LongTensor(list(set(np.arange(n)) - set(train_ind.tolist())))\n",
    "# K = int(np.sqrt(n) * np.log2(n) / 10) #作为隐藏输入\n",
    "D = pairwise_distances(x)# 邻接距离矩阵\n",
    "# 二值化，得到邻接矩阵\n",
    "A_binary = np.where(D <= DISTANCE, 1, 0)\n",
    "# A_binary\n",
    "# 获得所有的边，二元组格式\n",
    "row_indices, col_indices = np.where(A_binary == 1)\n",
    "edges = list(zip(row_indices, col_indices))\n",
    "\n",
    "# 转为tensor\n",
    "x = torch.tensor(x, dtype=torch.float)\n",
    "y = torch.tensor(y, dtype=torch.long)\n",
    "edges = torch.tensor(edges, dtype=torch.long).t().contiguous()\n",
    "data = Data(x=x, y=y, edge_index=edges)\n",
    "print(data)\n",
    "\n",
    "# 喂到GIN网络中\n",
    "net = GIN(m)\n",
    "optimizer = optim.Adam(net.parameters(), lr=0.001)\n",
    "net.train()\n",
    "for epoch in range(2):\n",
    "    ind = torch.eye(n)[:, torch.randperm(n)[:m]]\n",
    "    # 将节点选择矩阵与特征矩阵连接在一起\n",
    "    X_extended = torch.hstack([x, ind]) # \n",
    "    print(\"拼接后的矩阵shape：\", X_extended.shape)\n",
    "    data = Data(x=X_extended, edge_index=edges)\n",
    "    print(data)\n",
    "    rec = net(data) # reconstruct\n",
    "    loss = dG(x[train_ind], rec[train_ind]) #train loss\n",
    "    print(f'Epoch {epoch + 1}, Loss: {float(loss)}')\n",
    "    optimizer.zero_grad() # zero gradient\n",
    "    loss.backward()\n",
    "    optimizer.step()\n",
    "\n",
    "# R, _ = orthogonal_procrustes(x.numpy(), rec.detach().numpy())\n",
    "# rec_GIN = rec.detach().numpy() @ R.T\n",
    "# loss_GIN = float(dG(x, rec))\n",
    "# # 创建图形\n",
    "# fig, ax = plt.subplots(1, 2, figsize=(14, 4))\n",
    "# # ax两个画布\n",
    "# ax[0].scatter(x[:, 0], x[:, 1], c=y, s=10, cmap='viridis', rasterized=True)\n",
    "# ax[0].set_xticks([])\n",
    "# ax[0].set_yticks([])\n",
    "# ax[0].set_facecolor('#eeeeee')\n",
    "# txt = ax[0].text(0.05, 0.05, 'Ground Truth', color='k', fontsize=14, weight='bold', transform=ax[0].transAxes)\n",
    "# txt.set_path_effects([PathEffects.withStroke(linewidth=5, foreground='#eeeeee')])\n",
    "\n",
    "# # 绘制 GIN 网络的重构结果\n",
    "# ax[1].scatter(rec_GIN[:, 0], rec_GIN[:, 1], c=y, s=10, cmap='viridis', rasterized=True)\n",
    "# ax[1].set_xticks([])\n",
    "# ax[1].set_yticks([])\n",
    "# txt = ax[1].text(0.05, 0.05, f'GIN $d_G = {loss_GIN:.2f}$', color='k', fontsize=14, weight='bold', transform=ax[1].transAxes)\n",
    "# txt.set_path_effects([PathEffects.withStroke(linewidth=5, foreground='w')])\n",
    "\n",
    "# fig.subplots_adjust()\n",
    "\n",
    "# if not os.path.exists('imgs'):\n",
    "#     os.mkdir('imgs')\n",
    "\n",
    "# fig.savefig('imgs/semi_moon_GIN.png', bbox_inches='tight', dpi=300)\n",
    "\n",
    "# plt.show()"
   ]
  },
  {
   "cell_type": "code",
   "execution_count": 15,
   "metadata": {},
   "outputs": [
    {
     "name": "stdout",
     "output_type": "stream",
     "text": [
      "tensor([2, 6, 9, 7, 1])\n"
     ]
    },
    {
     "data": {
      "text/plain": [
       "tensor([[0., 0., 0., 0., 0.],\n",
       "        [0., 0., 0., 0., 1.],\n",
       "        [1., 0., 0., 0., 0.],\n",
       "        [0., 0., 0., 0., 0.],\n",
       "        [0., 0., 0., 0., 0.],\n",
       "        [0., 0., 0., 0., 0.],\n",
       "        [0., 1., 0., 0., 0.],\n",
       "        [0., 0., 0., 1., 0.],\n",
       "        [0., 0., 0., 0., 0.],\n",
       "        [0., 0., 1., 0., 0.]])"
      ]
     },
     "execution_count": 15,
     "metadata": {},
     "output_type": "execute_result"
    }
   ],
   "source": [
    "import torch\n",
    "n=10\n",
    "m=5\n",
    "rc_list = torch.randperm(n)[:m]\n",
    "ind = torch.eye(n)[:, rc_list]\n",
    "print(rc_list)\n",
    "ind"
   ]
  },
  {
   "cell_type": "code",
   "execution_count": 9,
   "metadata": {},
   "outputs": [
    {
     "name": "stdout",
     "output_type": "stream",
     "text": [
      "torch-sparse 版本为: 4.3.2\n"
     ]
    }
   ],
   "source": [
    "import gensim\n",
    "\n",
    "def main():\n",
    "    sparse_version =gensim.__version__\n",
    "    print(\"torch-sparse 版本为:\", sparse_version)\n",
    "\n",
    "if __name__ == \"__main__\":\n",
    "    main()\n"
   ]
  },
  {
   "cell_type": "code",
   "execution_count": 3,
   "metadata": {},
   "outputs": [
    {
     "name": "stdout",
     "output_type": "stream",
     "text": [
      "[0.10853552 0.42812706 0.07912775 0.82336341 0.48571637 0.67106305\n",
      " 0.16808549 0.67425444 0.00458491 0.0531815  0.3954835  0.14645842\n",
      " 0.83055454 0.0173432  0.15689277 0.64562884 0.89534729 0.09211132\n",
      " 0.30262194 0.16781474]\n",
      "10->5\t12->3\t18->15\t3->8\t1->8\t18->12\t18->13\t6->7\t18->11\t1->13\t"
     ]
    },
    {
     "ename": "ValueError",
     "evalue": "row, column, and data array must all be the same length",
     "output_type": "error",
     "traceback": [
      "\u001b[0;31m---------------------------------------------------------------------------\u001b[0m",
      "\u001b[0;31mValueError\u001b[0m                                Traceback (most recent call last)",
      "Cell \u001b[0;32mIn[3], line 16\u001b[0m\n\u001b[1;32m     13\u001b[0m     \u001b[38;5;28mprint\u001b[39m(\u001b[38;5;124mf\u001b[39m\u001b[38;5;124m\"\u001b[39m\u001b[38;5;132;01m{\u001b[39;00mi\u001b[38;5;132;01m}\u001b[39;00m\u001b[38;5;124m->\u001b[39m\u001b[38;5;132;01m{\u001b[39;00mj\u001b[38;5;132;01m}\u001b[39;00m\u001b[38;5;124m\"\u001b[39m, end\u001b[38;5;241m=\u001b[39m\u001b[38;5;124m'\u001b[39m\u001b[38;5;130;01m\\t\u001b[39;00m\u001b[38;5;124m'\u001b[39m)\n\u001b[1;32m     15\u001b[0m \u001b[38;5;66;03m# 调用reconstruct函数\u001b[39;00m\n\u001b[0;32m---> 16\u001b[0m reconstructed_data \u001b[38;5;241m=\u001b[39m \u001b[43mreconstruct\u001b[49m\u001b[43m(\u001b[49m\u001b[43mK\u001b[49m\u001b[43m,\u001b[49m\u001b[43m \u001b[49m\u001b[43mpr\u001b[49m\u001b[43m,\u001b[49m\u001b[43m \u001b[49m\u001b[43mn\u001b[49m\u001b[43m,\u001b[49m\u001b[43m \u001b[49m\u001b[43mm\u001b[49m\u001b[43m,\u001b[49m\u001b[43m \u001b[49m\u001b[43mfr\u001b[49m\u001b[43m,\u001b[49m\u001b[43m \u001b[49m\u001b[43mto\u001b[49m\u001b[43m)\u001b[49m\n\u001b[1;32m     18\u001b[0m \u001b[38;5;66;03m# 打印重构后的数据\u001b[39;00m\n\u001b[1;32m     19\u001b[0m \u001b[38;5;28mprint\u001b[39m(\u001b[38;5;124m\"\u001b[39m\u001b[38;5;124mReconstructed Data:\u001b[39m\u001b[38;5;124m\"\u001b[39m)\n",
      "File \u001b[0;32m~/liuql/Network-Embedding-Algorithm/tests/util.py:144\u001b[0m, in \u001b[0;36mreconstruct\u001b[0;34m(K, pr, n, m, fr, to)\u001b[0m\n\u001b[1;32m    142\u001b[0m unselected \u001b[38;5;241m=\u001b[39m np\u001b[38;5;241m.\u001b[39marray(\u001b[38;5;28mlist\u001b[39m(\u001b[38;5;28mset\u001b[39m(np\u001b[38;5;241m.\u001b[39marange(n)) \u001b[38;5;241m-\u001b[39m \u001b[38;5;28mset\u001b[39m(selected)))\n\u001b[1;32m    143\u001b[0m s \u001b[38;5;241m=\u001b[39m (K \u001b[38;5;241m/\u001b[39m (pr \u001b[38;5;241m*\u001b[39m n \u001b[38;5;241m*\u001b[39m n)) \u001b[38;5;241m*\u001b[39m\u001b[38;5;241m*\u001b[39m \u001b[38;5;241m0.25\u001b[39m\n\u001b[0;32m--> 144\u001b[0m W \u001b[38;5;241m=\u001b[39m \u001b[43mcsr_matrix\u001b[49m\u001b[43m(\u001b[49m\u001b[43m(\u001b[49m\u001b[43ms\u001b[49m\u001b[38;5;241;43m.\u001b[39;49m\u001b[43mrepeat\u001b[49m\u001b[43m(\u001b[49m\u001b[43mK\u001b[49m\u001b[43m)\u001b[49m\u001b[43m,\u001b[49m\u001b[43m \u001b[49m\u001b[43m(\u001b[49m\u001b[43mfr\u001b[49m\u001b[43m,\u001b[49m\u001b[43m \u001b[49m\u001b[43mto\u001b[49m\u001b[43m)\u001b[49m\u001b[43m)\u001b[49m\u001b[43m)\u001b[49m\n\u001b[1;32m    145\u001b[0m spd \u001b[38;5;241m=\u001b[39m shortest_path(W, indices\u001b[38;5;241m=\u001b[39mselected)\n\u001b[1;32m    146\u001b[0m pos_inf \u001b[38;5;241m=\u001b[39m (spd \u001b[38;5;241m==\u001b[39m np\u001b[38;5;241m.\u001b[39minf)\n",
      "File \u001b[0;32m~/anaconda3/envs/liuql_net/lib/python3.8/site-packages/scipy/sparse/_compressed.py:53\u001b[0m, in \u001b[0;36m_cs_matrix.__init__\u001b[0;34m(self, arg1, shape, dtype, copy)\u001b[0m\n\u001b[1;32m     49\u001b[0m \u001b[38;5;28;01melse\u001b[39;00m:\n\u001b[1;32m     50\u001b[0m     \u001b[38;5;28;01mif\u001b[39;00m \u001b[38;5;28mlen\u001b[39m(arg1) \u001b[38;5;241m==\u001b[39m \u001b[38;5;241m2\u001b[39m:\n\u001b[1;32m     51\u001b[0m         \u001b[38;5;66;03m# (data, ij) format\u001b[39;00m\n\u001b[1;32m     52\u001b[0m         other \u001b[38;5;241m=\u001b[39m \u001b[38;5;28mself\u001b[39m\u001b[38;5;241m.\u001b[39m\u001b[38;5;18m__class__\u001b[39m(\n\u001b[0;32m---> 53\u001b[0m             \u001b[38;5;28;43mself\u001b[39;49m\u001b[38;5;241;43m.\u001b[39;49m\u001b[43m_coo_container\u001b[49m\u001b[43m(\u001b[49m\u001b[43marg1\u001b[49m\u001b[43m,\u001b[49m\u001b[43m \u001b[49m\u001b[43mshape\u001b[49m\u001b[38;5;241;43m=\u001b[39;49m\u001b[43mshape\u001b[49m\u001b[43m,\u001b[49m\u001b[43m \u001b[49m\u001b[43mdtype\u001b[49m\u001b[38;5;241;43m=\u001b[39;49m\u001b[43mdtype\u001b[49m\u001b[43m)\u001b[49m\n\u001b[1;32m     54\u001b[0m         )\n\u001b[1;32m     55\u001b[0m         \u001b[38;5;28mself\u001b[39m\u001b[38;5;241m.\u001b[39m_set_self(other)\n\u001b[1;32m     56\u001b[0m     \u001b[38;5;28;01melif\u001b[39;00m \u001b[38;5;28mlen\u001b[39m(arg1) \u001b[38;5;241m==\u001b[39m \u001b[38;5;241m3\u001b[39m:\n\u001b[1;32m     57\u001b[0m         \u001b[38;5;66;03m# (data, indices, indptr) format\u001b[39;00m\n",
      "File \u001b[0;32m~/anaconda3/envs/liuql_net/lib/python3.8/site-packages/scipy/sparse/_coo.py:197\u001b[0m, in \u001b[0;36mcoo_matrix.__init__\u001b[0;34m(self, arg1, shape, dtype, copy)\u001b[0m\n\u001b[1;32m    194\u001b[0m \u001b[38;5;28;01mif\u001b[39;00m dtype \u001b[38;5;129;01mis\u001b[39;00m \u001b[38;5;129;01mnot\u001b[39;00m \u001b[38;5;28;01mNone\u001b[39;00m:\n\u001b[1;32m    195\u001b[0m     \u001b[38;5;28mself\u001b[39m\u001b[38;5;241m.\u001b[39mdata \u001b[38;5;241m=\u001b[39m \u001b[38;5;28mself\u001b[39m\u001b[38;5;241m.\u001b[39mdata\u001b[38;5;241m.\u001b[39mastype(dtype, copy\u001b[38;5;241m=\u001b[39m\u001b[38;5;28;01mFalse\u001b[39;00m)\n\u001b[0;32m--> 197\u001b[0m \u001b[38;5;28;43mself\u001b[39;49m\u001b[38;5;241;43m.\u001b[39;49m\u001b[43m_check\u001b[49m\u001b[43m(\u001b[49m\u001b[43m)\u001b[49m\n",
      "File \u001b[0;32m~/anaconda3/envs/liuql_net/lib/python3.8/site-packages/scipy/sparse/_coo.py:282\u001b[0m, in \u001b[0;36mcoo_matrix._check\u001b[0;34m(self)\u001b[0m\n\u001b[1;32m    279\u001b[0m \u001b[38;5;28mself\u001b[39m\u001b[38;5;241m.\u001b[39mcol \u001b[38;5;241m=\u001b[39m np\u001b[38;5;241m.\u001b[39masarray(\u001b[38;5;28mself\u001b[39m\u001b[38;5;241m.\u001b[39mcol, dtype\u001b[38;5;241m=\u001b[39midx_dtype)\n\u001b[1;32m    280\u001b[0m \u001b[38;5;28mself\u001b[39m\u001b[38;5;241m.\u001b[39mdata \u001b[38;5;241m=\u001b[39m to_native(\u001b[38;5;28mself\u001b[39m\u001b[38;5;241m.\u001b[39mdata)\n\u001b[0;32m--> 282\u001b[0m \u001b[38;5;28;01mif\u001b[39;00m \u001b[38;5;28;43mself\u001b[39;49m\u001b[38;5;241;43m.\u001b[39;49m\u001b[43mnnz\u001b[49m \u001b[38;5;241m>\u001b[39m \u001b[38;5;241m0\u001b[39m:\n\u001b[1;32m    283\u001b[0m     \u001b[38;5;28;01mif\u001b[39;00m \u001b[38;5;28mself\u001b[39m\u001b[38;5;241m.\u001b[39mrow\u001b[38;5;241m.\u001b[39mmax() \u001b[38;5;241m>\u001b[39m\u001b[38;5;241m=\u001b[39m \u001b[38;5;28mself\u001b[39m\u001b[38;5;241m.\u001b[39mshape[\u001b[38;5;241m0\u001b[39m]:\n\u001b[1;32m    284\u001b[0m         \u001b[38;5;28;01mraise\u001b[39;00m \u001b[38;5;167;01mValueError\u001b[39;00m(\u001b[38;5;124m'\u001b[39m\u001b[38;5;124mrow index exceeds matrix dimensions\u001b[39m\u001b[38;5;124m'\u001b[39m)\n",
      "File \u001b[0;32m~/anaconda3/envs/liuql_net/lib/python3.8/site-packages/scipy/sparse/_base.py:299\u001b[0m, in \u001b[0;36mspmatrix.nnz\u001b[0;34m(self)\u001b[0m\n\u001b[1;32m    291\u001b[0m \u001b[38;5;129m@property\u001b[39m\n\u001b[1;32m    292\u001b[0m \u001b[38;5;28;01mdef\u001b[39;00m \u001b[38;5;21mnnz\u001b[39m(\u001b[38;5;28mself\u001b[39m):\n\u001b[1;32m    293\u001b[0m \u001b[38;5;250m    \u001b[39m\u001b[38;5;124;03m\"\"\"Number of stored values, including explicit zeros.\u001b[39;00m\n\u001b[1;32m    294\u001b[0m \n\u001b[1;32m    295\u001b[0m \u001b[38;5;124;03m    See also\u001b[39;00m\n\u001b[1;32m    296\u001b[0m \u001b[38;5;124;03m    --------\u001b[39;00m\n\u001b[1;32m    297\u001b[0m \u001b[38;5;124;03m    count_nonzero : Number of non-zero entries\u001b[39;00m\n\u001b[1;32m    298\u001b[0m \u001b[38;5;124;03m    \"\"\"\u001b[39;00m\n\u001b[0;32m--> 299\u001b[0m     \u001b[38;5;28;01mreturn\u001b[39;00m \u001b[38;5;28;43mself\u001b[39;49m\u001b[38;5;241;43m.\u001b[39;49m\u001b[43mgetnnz\u001b[49m\u001b[43m(\u001b[49m\u001b[43m)\u001b[49m\n",
      "File \u001b[0;32m~/anaconda3/envs/liuql_net/lib/python3.8/site-packages/scipy/sparse/_coo.py:244\u001b[0m, in \u001b[0;36mcoo_matrix.getnnz\u001b[0;34m(self, axis)\u001b[0m\n\u001b[1;32m    242\u001b[0m nnz \u001b[38;5;241m=\u001b[39m \u001b[38;5;28mlen\u001b[39m(\u001b[38;5;28mself\u001b[39m\u001b[38;5;241m.\u001b[39mdata)\n\u001b[1;32m    243\u001b[0m \u001b[38;5;28;01mif\u001b[39;00m nnz \u001b[38;5;241m!=\u001b[39m \u001b[38;5;28mlen\u001b[39m(\u001b[38;5;28mself\u001b[39m\u001b[38;5;241m.\u001b[39mrow) \u001b[38;5;129;01mor\u001b[39;00m nnz \u001b[38;5;241m!=\u001b[39m \u001b[38;5;28mlen\u001b[39m(\u001b[38;5;28mself\u001b[39m\u001b[38;5;241m.\u001b[39mcol):\n\u001b[0;32m--> 244\u001b[0m     \u001b[38;5;28;01mraise\u001b[39;00m \u001b[38;5;167;01mValueError\u001b[39;00m(\u001b[38;5;124m'\u001b[39m\u001b[38;5;124mrow, column, and data array must all be the \u001b[39m\u001b[38;5;124m'\u001b[39m\n\u001b[1;32m    245\u001b[0m                      \u001b[38;5;124m'\u001b[39m\u001b[38;5;124msame length\u001b[39m\u001b[38;5;124m'\u001b[39m)\n\u001b[1;32m    247\u001b[0m \u001b[38;5;28;01mif\u001b[39;00m \u001b[38;5;28mself\u001b[39m\u001b[38;5;241m.\u001b[39mdata\u001b[38;5;241m.\u001b[39mndim \u001b[38;5;241m!=\u001b[39m \u001b[38;5;241m1\u001b[39m \u001b[38;5;129;01mor\u001b[39;00m \u001b[38;5;28mself\u001b[39m\u001b[38;5;241m.\u001b[39mrow\u001b[38;5;241m.\u001b[39mndim \u001b[38;5;241m!=\u001b[39m \u001b[38;5;241m1\u001b[39m \u001b[38;5;129;01mor\u001b[39;00m \\\n\u001b[1;32m    248\u001b[0m         \u001b[38;5;28mself\u001b[39m\u001b[38;5;241m.\u001b[39mcol\u001b[38;5;241m.\u001b[39mndim \u001b[38;5;241m!=\u001b[39m \u001b[38;5;241m1\u001b[39m:\n\u001b[1;32m    249\u001b[0m     \u001b[38;5;28;01mraise\u001b[39;00m \u001b[38;5;167;01mValueError\u001b[39;00m(\u001b[38;5;124m'\u001b[39m\u001b[38;5;124mrow, column, and data arrays must be 1-D\u001b[39m\u001b[38;5;124m'\u001b[39m)\n",
      "\u001b[0;31mValueError\u001b[0m: row, column, and data array must all be the same length"
     ]
    }
   ],
   "source": [
    "# reconstruct\n",
    "from util import reconstruct\n",
    "import numpy as np\n",
    "# 构造测试数据\n",
    "K = 10\n",
    "n = 20\n",
    "pr = np.random.rand(n)\n",
    "print(pr)\n",
    "m = 5\n",
    "fr = np.random.randint(0, n, size=K)\n",
    "to = np.random.randint(0, n, size=K)\n",
    "for i,j in zip(fr, to):\n",
    "    print(f\"{i}->{j}\", end='\\t')\n",
    "\n",
    "# 调用reconstruct函数\n",
    "reconstructed_data = reconstruct(K, pr, n, m, fr, to)\n",
    "\n",
    "# 打印重构后的数据\n",
    "print(\"Reconstructed Data:\")\n",
    "print(reconstructed_data)"
   ]
  }
 ],
 "metadata": {
  "kernelspec": {
   "display_name": "Python 3",
   "language": "python",
   "name": "python3"
  },
  "language_info": {
   "codemirror_mode": {
    "name": "ipython",
    "version": 3
   },
   "file_extension": ".py",
   "mimetype": "text/x-python",
   "name": "python",
   "nbconvert_exporter": "python",
   "pygments_lexer": "ipython3",
   "version": "3.8.19"
  }
 },
 "nbformat": 4,
 "nbformat_minor": 2
}
