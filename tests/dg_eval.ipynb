{
 "cells": [
  {
   "cell_type": "code",
   "execution_count": 37,
   "metadata": {},
   "outputs": [
    {
     "name": "stdout",
     "output_type": "stream",
     "text": [
      "Result: tensor(2.9113)\n"
     ]
    }
   ],
   "source": [
    "import torch\n",
    "import numpy as np\n",
    "\n",
    "def euclidean_distance(matrix1, matrix2):\n",
    "    matrix1 = np.array(matrix1)\n",
    "    matrix2 = np.array(matrix2)\n",
    "    diff_matrix = matrix1 - matrix2\n",
    "    squared_diff_matrix = np.square(diff_matrix)\n",
    "    euclidean_dist = np.sqrt(np.sum(squared_diff_matrix))\n",
    "    return euclidean_dist\n",
    "\n",
    "def dG(A, B):\n",
    "    S = A.T @ B\n",
    "    with open(\"record_dg.txt\", \"a\") as f:\n",
    "        f.write(f\"A:\\n{A}\\n\")\n",
    "        f.write(f\"B:\\n{B}\\n\")\n",
    "        f.write(f\"--------------Distance(A, B): {euclidean_distance(A, B)}----------------\\n\")\n",
    "        f.write(f\"S:\\n{S}\\n\")\n",
    "        U, Sigma, V = torch.svd(S)\n",
    "        f.write(f\"U:\\n{U}\\nSigma:\\n{Sigma}\\nV:\\n{V}\\n\")\n",
    "        R = U @ V.T\n",
    "        AR = A @ R\n",
    "        result = ((AR - B) ** 2).sum(1).mean()\n",
    "        f.write(f\"Result: {result}\\n>>>>>>>>>>>>>>>>>>>>>>>>>>>>>>>>>>>>>>>>>>>>>>>>>>>>>>>>>>>>>\\n\")\n",
    "    return result\n",
    "\n",
    "# 生成随机矩阵 A 和 B\n",
    "A = torch.randn(5, 2)\n",
    "B = torch.randn(5, 2)\n",
    "\n",
    "# 调用函数 dG，并传递 A 和 B 作为参数\n",
    "result = dG(A, B)\n",
    "print(\"Result:\", result)\n"
   ]
  }
 ],
 "metadata": {
  "kernelspec": {
   "display_name": "base",
   "language": "python",
   "name": "python3"
  },
  "language_info": {
   "codemirror_mode": {
    "name": "ipython",
    "version": 3
   },
   "file_extension": ".py",
   "mimetype": "text/x-python",
   "name": "python",
   "nbconvert_exporter": "python",
   "pygments_lexer": "ipython3",
   "version": "3.8.8"
  }
 },
 "nbformat": 4,
 "nbformat_minor": 2
}
