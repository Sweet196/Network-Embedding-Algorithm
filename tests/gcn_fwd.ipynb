{
 "cells": [
  {
   "cell_type": "code",
   "execution_count": 4,
   "metadata": {},
   "outputs": [
    {
     "name": "stdout",
     "output_type": "stream",
     "text": [
      "torch.Size([5, 5]) tensor([[ 0.6027,  0.0470,  0.1731,  1.9202,  0.8324],\n",
      "        [-0.1275, -1.1284, -0.5284, -0.0278, -1.1911],\n",
      "        [ 1.0733,  2.1866,  0.3237,  1.6694, -0.5501],\n",
      "        [-0.4187, -0.7665, -0.9755, -0.2935, -0.0442],\n",
      "        [ 0.5636, -0.3198,  1.3695,  0.4981,  1.2414]])\n",
      "Layer 1 output:\n",
      "torch.Size([5, 2]) tensor([[0.3456, 0.7879],\n",
      "        [0.5163, 0.2842],\n",
      "        [0.0414, 0.0000],\n",
      "        [0.0000, 0.1567],\n",
      "        [0.0000, 1.0527]], grad_fn=<ReluBackward0>)\n",
      "Layer 2 output:\n",
      "torch.Size([5, 2]) tensor([[0.2018, 0.2471],\n",
      "        [0.0000, 0.0000],\n",
      "        [0.3834, 0.0000],\n",
      "        [0.0000, 0.7891],\n",
      "        [0.2589, 0.0000]], grad_fn=<ReluBackward0>)\n",
      "Layer 3 output:\n",
      "torch.Size([5, 2]) tensor([[1.3682, 3.1356],\n",
      "        [0.0000, 0.0000],\n",
      "        [0.1374, 0.5534],\n",
      "        [0.0000, 0.0000],\n",
      "        [0.9033, 1.3519]], grad_fn=<ReluBackward0>)\n"
     ]
    }
   ],
   "source": [
    "import torch\n",
    "import torch.nn.functional as F\n",
    "\n",
    "class GCNLayer(torch.nn.Module):\n",
    "    def __init__(self, in_features, out_features):\n",
    "        super(GCNLayer, self).__init__()\n",
    "        self.linear = torch.nn.Linear(in_features, out_features)\n",
    "\n",
    "    def forward(self, x, adjacency):\n",
    "        x = self.linear(x)\n",
    "        x = torch.matmul(adjacency, x)\n",
    "        return F.relu(x)\n",
    "\n",
    "# 假设输入特征维度为 10，输出特征维度为 5\n",
    "input_features = 5\n",
    "output_features = 2\n",
    "\n",
    "\n",
    "adjacency = torch.randn(5, 5)\n",
    "\n",
    "# 创建 GCN 层\n",
    "gcn_layer1 = GCNLayer(input_features, output_features)\n",
    "gcn_layer2 = GCNLayer(output_features, output_features)\n",
    "gcn_layer3 = GCNLayer(output_features, output_features)\n",
    "\n",
    "# 输入特征\n",
    "x = torch.randn(5, input_features)\n",
    "\n",
    "# 执行三层 GCN 卷积\n",
    "x1 = gcn_layer1(x, adjacency)\n",
    "x2 = gcn_layer2(x1, adjacency)\n",
    "x3 = gcn_layer3(x2, adjacency)\n",
    "print(x.shape, x)\n",
    "print(\"Layer 1 output:\")\n",
    "print(x1.shape, x1)\n",
    "print(\"Layer 2 output:\")\n",
    "print(x2.shape, x2)\n",
    "print(\"Layer 3 output:\")\n",
    "print(x3.shape, x3)\n"
   ]
  }
 ],
 "metadata": {
  "kernelspec": {
   "display_name": "base",
   "language": "python",
   "name": "python3"
  },
  "language_info": {
   "codemirror_mode": {
    "name": "ipython",
    "version": 3
   },
   "file_extension": ".py",
   "mimetype": "text/x-python",
   "name": "python",
   "nbconvert_exporter": "python",
   "pygments_lexer": "ipython3",
   "version": "3.8.8"
  }
 },
 "nbformat": 4,
 "nbformat_minor": 2
}
